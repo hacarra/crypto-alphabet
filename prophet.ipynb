{
  "nbformat": 4,
  "nbformat_minor": 0,
  "metadata": {
    "colab": {
      "name": "prophet.ipynb",
      "provenance": [],
      "authorship_tag": "ABX9TyN1U57tounytmWxE7xCD5gK",
      "include_colab_link": true
    },
    "kernelspec": {
      "name": "python3",
      "display_name": "Python 3"
    },
    "language_info": {
      "name": "python"
    }
  },
  "cells": [
    {
      "cell_type": "markdown",
      "metadata": {
        "id": "view-in-github",
        "colab_type": "text"
      },
      "source": [
        "<a href=\"https://colab.research.google.com/github/hacarra/crypto-alphabet/blob/main/prophet.ipynb\" target=\"_parent\"><img src=\"https://colab.research.google.com/assets/colab-badge.svg\" alt=\"Open In Colab\"/></a>"
      ]
    },
    {
      "cell_type": "code",
      "metadata": {
        "id": "vNOIa5WJpLGu"
      },
      "source": [
        "!pip install pystan==2.19.1.1\n",
        "!pip install prophet\n",
        "\n",
        "import pandas as pd\n",
        "from prophet import Prophet\n",
        "\n",
        "# download the dataset to ./data/btc.csv\n",
        "!wget https://raw.githubusercontent.com/hacarra/crypto-alphabet/main/USDT_ETH_7200.csv -P data/\n",
        "\n",
        "btc_df = pd.read_csv(\"data/USDT_ETH_7200.csv\")\n",
        "btc_df.head()\n",
        "\n",
        "forecast_df = btc_df[[\"DateTime\", \"close\"]]\n",
        "forecast_df.columns = [\"ds\", \"y\"]  # rename the columns to match Prophet's requirements\n",
        "\n",
        "forecast = Prophet()\n",
        "forecast.fit(forecast_df)\n",
        "\n",
        "future_dates_df = forecast.make_future_dataframe(periods=365)\n",
        "future_dates_df.tail()\n",
        "\n",
        "prediction = forecast.predict(future_dates_df)\n",
        "prediction.tail()\n",
        "\n",
        "prediction[[\"ds\", \"yhat\", \"yhat_lower\", \"yhat_upper\"]].tail()\n",
        "\n",
        "fig1 = forecast.plot(prediction)\n",
        "\n",
        "fig2 = forecast.plot_components(prediction)"
      ],
      "execution_count": null,
      "outputs": []
    },
    {
      "cell_type": "code",
      "metadata": {
        "id": "XbJfAtlNt0lJ"
      },
      "source": [
        "!pip install pystan==2.19.1.1\n",
        "!pip install prophet\n",
        "\n",
        "import pandas as pd\n",
        "from prophet import Prophet\n",
        "\n",
        "# download the dataset to ./data/btc.csv\n",
        "!wget https://raw.githubusercontent.com/hacarra/crypto-alphabet/main/USDT_BTC_7200.csv -P data/\n",
        "\n",
        "btc_df = pd.read_csv(\"data/USDT_BTC_7200.csv\")\n",
        "btc_df.head()\n",
        "\n",
        "forecast_df = btc_df[[\"DateTime\", \"close\"]]\n",
        "forecast_df.columns = [\"ds\", \"y\"]  # rename the columns to match Prophet's requirements\n",
        "\n",
        "forecast = Prophet()\n",
        "forecast.fit(forecast_df)\n",
        "\n",
        "future_dates_df = forecast.make_future_dataframe(periods=365)\n",
        "future_dates_df.tail()\n",
        "\n",
        "prediction = forecast.predict(future_dates_df)\n",
        "prediction.tail()\n",
        "\n",
        "prediction[[\"ds\", \"yhat\", \"yhat_lower\", \"yhat_upper\"]].tail()\n",
        "\n",
        "fig1 = forecast.plot(prediction)\n",
        "\n",
        "fig2 = forecast.plot_components(prediction)"
      ],
      "execution_count": null,
      "outputs": []
    }
  ]
}