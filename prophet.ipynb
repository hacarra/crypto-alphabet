{
  "nbformat": 4,
  "nbformat_minor": 0,
  "metadata": {
    "colab": {
      "name": "prophet.ipynb",
      "provenance": [],
      "authorship_tag": "ABX9TyMWasimUWyBKXoiaH+eFf3v",
      "include_colab_link": true
    },
    "kernelspec": {
      "name": "python3",
      "display_name": "Python 3"
    },
    "language_info": {
      "name": "python"
    }
  },
  "cells": [
    {
      "cell_type": "markdown",
      "metadata": {
        "id": "view-in-github",
        "colab_type": "text"
      },
      "source": [
        "<a href=\"https://colab.research.google.com/github/hacarra/crypto-alphabet/blob/main/prophet.ipynb\" target=\"_parent\"><img src=\"https://colab.research.google.com/assets/colab-badge.svg\" alt=\"Open In Colab\"/></a>"
      ]
    },
    {
      "cell_type": "code",
      "metadata": {
        "id": "vNOIa5WJpLGu",
        "colab": {
          "base_uri": "https://localhost:8080/"
        },
        "outputId": "1b2ea66d-463b-4e4a-ec84-dec02380f6c1"
      },
      "source": [
        "!pip install pystan==2.19.1.1\n",
        "!pip install prophet\n",
        "\n",
        "import pandas as pd\n",
        "from prophet import Prophet\n",
        "\n",
        "# download the dataset to ./data/btc.csv\n",
        "!wget https://raw.githubusercontent.com/hacarra/crypto-alphabet/main/USDT_ETH_7200.csv -P data/\n",
        "\n",
        "btc_df = pd.read_csv(\"data/USDT_ETH_7200.csv\")\n",
        "btc_df.head()\n",
        "\n",
        "forecast_df = btc_df[[\"DateTime\", \"close\"]]\n",
        "forecast_df.columns = [\"ds\", \"y\"]  # rename the columns to match Prophet's requirements\n",
        "\n",
        "forecast = Prophet()\n",
        "forecast.fit(forecast_df)\n",
        "\n",
        "future_dates_df = forecast.make_future_dataframe(periods=365)\n",
        "future_dates_df.tail()\n",
        "\n",
        "prediction = forecast.predict(future_dates_df)\n",
        "prediction.tail()\n",
        "\n",
        "prediction[[\"ds\", \"yhat\", \"yhat_lower\", \"yhat_upper\"]].tail()\n",
        "\n",
        "fig1 = forecast.plot(prediction)\n",
        "\n",
        "fig2 = forecast.plot_components(prediction)"
      ],
      "execution_count": null,
      "outputs": [
        {
          "output_type": "stream",
          "text": [
            "Requirement already satisfied: pystan==2.19.1.1 in /usr/local/lib/python3.7/dist-packages (2.19.1.1)\n",
            "Requirement already satisfied: Cython!=0.25.1,>=0.22 in /usr/local/lib/python3.7/dist-packages (from pystan==2.19.1.1) (0.29.24)\n",
            "Requirement already satisfied: numpy>=1.7 in /usr/local/lib/python3.7/dist-packages (from pystan==2.19.1.1) (1.19.5)\n",
            "Collecting prophet\n",
            "  Downloading prophet-1.0.1.tar.gz (65 kB)\n",
            "\u001b[K     |████████████████████████████████| 65 kB 2.2 MB/s \n",
            "\u001b[?25hRequirement already satisfied: Cython>=0.22 in /usr/local/lib/python3.7/dist-packages (from prophet) (0.29.24)\n",
            "Collecting cmdstanpy==0.9.68\n",
            "  Downloading cmdstanpy-0.9.68-py3-none-any.whl (49 kB)\n",
            "\u001b[K     |████████████████████████████████| 49 kB 4.9 MB/s \n",
            "\u001b[?25hRequirement already satisfied: pystan~=2.19.1.1 in /usr/local/lib/python3.7/dist-packages (from prophet) (2.19.1.1)\n",
            "Requirement already satisfied: numpy>=1.15.4 in /usr/local/lib/python3.7/dist-packages (from prophet) (1.19.5)\n",
            "Requirement already satisfied: pandas>=1.0.4 in /usr/local/lib/python3.7/dist-packages (from prophet) (1.1.5)\n",
            "Requirement already satisfied: matplotlib>=2.0.0 in /usr/local/lib/python3.7/dist-packages (from prophet) (3.2.2)\n",
            "Requirement already satisfied: LunarCalendar>=0.0.9 in /usr/local/lib/python3.7/dist-packages (from prophet) (0.0.9)\n",
            "Requirement already satisfied: convertdate>=2.1.2 in /usr/local/lib/python3.7/dist-packages (from prophet) (2.3.2)\n",
            "Requirement already satisfied: holidays>=0.10.2 in /usr/local/lib/python3.7/dist-packages (from prophet) (0.10.5.2)\n",
            "Requirement already satisfied: setuptools-git>=1.2 in /usr/local/lib/python3.7/dist-packages (from prophet) (1.2)\n",
            "Requirement already satisfied: python-dateutil>=2.8.0 in /usr/local/lib/python3.7/dist-packages (from prophet) (2.8.2)\n",
            "Requirement already satisfied: tqdm>=4.36.1 in /usr/local/lib/python3.7/dist-packages (from prophet) (4.62.0)\n",
            "Collecting ujson\n",
            "  Downloading ujson-4.0.2-cp37-cp37m-manylinux1_x86_64.whl (179 kB)\n",
            "\u001b[K     |████████████████████████████████| 179 kB 8.6 MB/s \n",
            "\u001b[?25hRequirement already satisfied: pytz>=2014.10 in /usr/local/lib/python3.7/dist-packages (from convertdate>=2.1.2->prophet) (2018.9)\n",
            "Requirement already satisfied: pymeeus<=1,>=0.3.13 in /usr/local/lib/python3.7/dist-packages (from convertdate>=2.1.2->prophet) (0.5.11)\n",
            "Requirement already satisfied: six in /usr/local/lib/python3.7/dist-packages (from holidays>=0.10.2->prophet) (1.15.0)\n",
            "Requirement already satisfied: hijri-converter in /usr/local/lib/python3.7/dist-packages (from holidays>=0.10.2->prophet) (2.1.3)\n",
            "Requirement already satisfied: korean-lunar-calendar in /usr/local/lib/python3.7/dist-packages (from holidays>=0.10.2->prophet) (0.2.1)\n",
            "Requirement already satisfied: ephem>=3.7.5.3 in /usr/local/lib/python3.7/dist-packages (from LunarCalendar>=0.0.9->prophet) (4.0.0.2)\n",
            "Requirement already satisfied: kiwisolver>=1.0.1 in /usr/local/lib/python3.7/dist-packages (from matplotlib>=2.0.0->prophet) (1.3.1)\n",
            "Requirement already satisfied: pyparsing!=2.0.4,!=2.1.2,!=2.1.6,>=2.0.1 in /usr/local/lib/python3.7/dist-packages (from matplotlib>=2.0.0->prophet) (2.4.7)\n",
            "Requirement already satisfied: cycler>=0.10 in /usr/local/lib/python3.7/dist-packages (from matplotlib>=2.0.0->prophet) (0.10.0)\n",
            "Building wheels for collected packages: prophet\n"
          ],
          "name": "stdout"
        }
      ]
    },
    {
      "cell_type": "code",
      "metadata": {
        "id": "XbJfAtlNt0lJ"
      },
      "source": [
        "!pip install pystan==2.19.1.1\n",
        "!pip install prophet\n",
        "\n",
        "import pandas as pd\n",
        "from prophet import Prophet\n",
        "\n",
        "# download the dataset to ./data/btc.csv\n",
        "!wget https://raw.githubusercontent.com/hacarra/crypto-alphabet/main/USDT_BTC.csv -P data/\n",
        "\n",
        "btc_df = pd.read_csv(\"data/USDT_BTC.csv\")\n",
        "btc_df.head()\n",
        "\n",
        "forecast_df = btc_df[[\"DateTime\", \"close\"]]\n",
        "forecast_df.columns = [\"ds\", \"y\"]  # rename the columns to match Prophet's requirements\n",
        "\n",
        "forecast = Prophet()\n",
        "forecast.fit(forecast_df)\n",
        "\n",
        "future_dates_df = forecast.make_future_dataframe(periods=365)\n",
        "future_dates_df.tail()\n",
        "\n",
        "prediction = forecast.predict(future_dates_df)\n",
        "prediction.tail()\n",
        "\n",
        "prediction[[\"ds\", \"yhat\", \"yhat_lower\", \"yhat_upper\"]].tail()\n",
        "\n",
        "fig1 = forecast.plot(prediction)\n",
        "\n",
        "fig2 = forecast.plot_components(prediction)"
      ],
      "execution_count": null,
      "outputs": []
    }
  ]
}